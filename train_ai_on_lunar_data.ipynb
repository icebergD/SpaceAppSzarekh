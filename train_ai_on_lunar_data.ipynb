{
 "cells": [
  {
   "cell_type": "code",
   "execution_count": 96,
   "id": "b8455292-69e1-4955-9ac3-b50b336b1923",
   "metadata": {
    "tags": []
   },
   "outputs": [
    {
     "name": "stderr",
     "output_type": "stream",
     "text": [
      "C:\\Users\\Andrery\\AppData\\Roaming\\Python\\Python311\\site-packages\\pydub\\utils.py:170: RuntimeWarning: Couldn't find ffmpeg or avconv - defaulting to ffmpeg, but may not work\n",
      "  warn(\"Couldn't find ffmpeg or avconv - defaulting to ffmpeg, but may not work\", RuntimeWarning)\n"
     ]
    }
   ],
   "source": [
    "import numpy as np\n",
    "import pandas as pd\n",
    "from datetime import datetime, timedelta\n",
    "import matplotlib.pyplot as plt\n",
    "from obspy import read\n",
    "import obspy\n",
    "import os\n",
    "from pprint import pprint\n",
    "from sklearn.preprocessing import StandardScaler\n",
    "import tensorflow as tf\n",
    "from tensorflow.keras.models import Sequential\n",
    "from tensorflow.keras.layers import LSTM, Dense\n",
    "from keras.layers import LSTM, Dropout, Dense, Input\n",
    "from sklearn.metrics import mean_squared_error\n",
    "from tensorflow.keras.callbacks import EarlyStopping\n",
    "import numpy as np\n",
    "from scipy.io.wavfile import write\n",
    "from pydub import AudioSegment\n",
    "import matplotlib.pyplot as plt"
   ]
  },
  {
   "cell_type": "code",
   "execution_count": 21,
   "id": "7ff1c0b1-954b-4f8c-a818-72fa4beeb0ba",
   "metadata": {
    "tags": []
   },
   "outputs": [
    {
     "name": "stdout",
     "output_type": "stream",
     "text": [
      "Num GPUs Available:  0\n"
     ]
    }
   ],
   "source": [
    "print(\"Num GPUs Available: \", len(tf.config.list_physical_devices('GPU')))"
   ]
  },
  {
   "cell_type": "code",
   "execution_count": 23,
   "id": "e68fe01b-e008-43a3-8d31-1d0ea03cf0aa",
   "metadata": {
    "tags": []
   },
   "outputs": [
    {
     "name": "stdout",
     "output_type": "stream",
     "text": [
      "GPUs Available:  0\n"
     ]
    }
   ],
   "source": [
    "# Вывести список доступных устройств\n",
    "physical_devices = tf.config.list_physical_devices('GPU')\n",
    "print(\"GPUs Available: \", len(physical_devices))\n",
    "\n",
    "# Если нужно использовать конкретные GPU (если их несколько)\n",
    "if physical_devices:\n",
    "    tf.config.experimental.set_memory_growth(physical_devices[0], True)"
   ]
  },
  {
   "cell_type": "code",
   "execution_count": 25,
   "id": "548b6522-ec7a-4589-9a88-4d5b0c13c148",
   "metadata": {
    "tags": []
   },
   "outputs": [],
   "source": [
    "test_data_path  = \"./data/lunar/test/data/S12_GradeB\"\n",
    "train_data_path = \"./data/lunar/training/data/S12_GradeA\""
   ]
  },
  {
   "cell_type": "markdown",
   "id": "1dd5a32a-7528-4853-a583-1b04a476f685",
   "metadata": {},
   "source": [
    "### Load data"
   ]
  },
  {
   "cell_type": "code",
   "execution_count": 42,
   "id": "ed7c6a1d-b353-4c9f-8e06-32343b716864",
   "metadata": {
    "tags": []
   },
   "outputs": [
    {
     "name": "stdout",
     "output_type": "stream",
     "text": [
      "128\n",
      "152\n",
      "4\n",
      "4\n"
     ]
    }
   ],
   "source": [
    "test_files = os.listdir(test_data_path)\n",
    "train_files = os.listdir(train_data_path)\n",
    "count_test_files = len(test_files)\n",
    "count_train_files = len(train_files)\n",
    "print(count_test_files)\n",
    "print(count_train_files)\n",
    "if count_test_files > count_train_files:\n",
    "    test_files = test_files[:count_train_files]\n",
    "else:\n",
    "    train_files = train_files[:count_test_files]\n",
    "test_files  = test_files[:4]\n",
    "train_files = train_files[:4]\n",
    "count_test_files = len(test_files)\n",
    "count_train_files = len(train_files)\n",
    "print(count_test_files)\n",
    "print(count_train_files)"
   ]
  },
  {
   "cell_type": "code",
   "execution_count": 44,
   "id": "26ba7b84-10b7-4daa-9a67-2456fa9e5614",
   "metadata": {
    "tags": []
   },
   "outputs": [
    {
     "name": "stdout",
     "output_type": "stream",
     "text": [
      "['xa.s12.00.mhz.1969-12-16HR00_evid00006.csv',\n",
      " 'xa.s12.00.mhz.1969-12-16HR00_evid00006.mseed']\n",
      "['xa.s12.00.mhz.1970-01-19HR00_evid00002.csv',\n",
      " 'xa.s12.00.mhz.1970-01-19HR00_evid00002.mseed']\n"
     ]
    }
   ],
   "source": [
    "pprint(test_files[:2])\n",
    "pprint(train_files[:2])"
   ]
  },
  {
   "cell_type": "code",
   "execution_count": 46,
   "id": "3a9b7f12-4da0-4e92-8823-87d239213cf2",
   "metadata": {},
   "outputs": [
    {
     "name": "stdout",
     "output_type": "stream",
     "text": [
      "2\n",
      "2\n",
      "2\n",
      "2\n"
     ]
    }
   ],
   "source": [
    "train_data, test_data, \\\n",
    "train_mseed_data, test_mseed_data = \\\n",
    "[], [], [], []\n",
    "for i in range(0, count_test_files, 2):\n",
    "    # print(f'{train_data_path}/{train_files[i]}')\n",
    "    train_data.append(pd.read_csv(f'{train_data_path}/{train_files[i]}', encoding='utf-8'))\n",
    "    # print(f'{test_data_path}/{test_files[i]}')\n",
    "    test_data.append(pd.read_csv(f'{test_data_path}/{test_files[i]}', encoding='utf-8'))\n",
    "    \n",
    "for i in range(1, count_test_files, 2):\n",
    "    # print(f'{train_data_path}/{train_files[i]}')\n",
    "    train_mseed_data.append(read(f'{train_data_path}/{train_files[i]}'))\n",
    "    # print(f'{test_data_path}/{test_files[i]}')\n",
    "    test_mseed_data.append(read(f'{test_data_path}/{test_files[i]}'))\n",
    "print(len(train_data))\n",
    "print(len(test_data))\n",
    "print(len(train_mseed_data))\n",
    "print(len(test_mseed_data))\n",
    "\n",
    "# train_stream = train_mseed[0].data\n",
    "# test_stream = test_mseed[0].data"
   ]
  },
  {
   "cell_type": "markdown",
   "id": "952f1f54-32fa-48ae-90b9-ea2586170bbe",
   "metadata": {},
   "source": [
    "### Data Normalization"
   ]
  },
  {
   "cell_type": "code",
   "execution_count": 49,
   "id": "85bc6d74-7dcb-49b1-b2b7-2538fcb6ab80",
   "metadata": {},
   "outputs": [],
   "source": [
    "scaler = StandardScaler()\n",
    "\n",
    "for i in range(0, len(train_data)):\n",
    "    # train_data[i]['time_abs'] = pd.to_datetime(train_csv['time_abs(%Y-%m-%dT%H:%M:%S.%f)'])\n",
    "    train_data[i]['velocity_normalized'] = scaler.fit_transform(train_data[i][['velocity(m/s)']])\n",
    "    test_data[i]['velocity_normalized']  = scaler.fit_transform(test_data[i][['velocity(m/s)']])\n"
   ]
  },
  {
   "cell_type": "code",
   "execution_count": 51,
   "id": "d0c4da20-46e9-4eb8-8ae3-3ef239d07a78",
   "metadata": {},
   "outputs": [
    {
     "data": {
      "text/html": [
       "<div>\n",
       "<style scoped>\n",
       "    .dataframe tbody tr th:only-of-type {\n",
       "        vertical-align: middle;\n",
       "    }\n",
       "\n",
       "    .dataframe tbody tr th {\n",
       "        vertical-align: top;\n",
       "    }\n",
       "\n",
       "    .dataframe thead th {\n",
       "        text-align: right;\n",
       "    }\n",
       "</style>\n",
       "<table border=\"1\" class=\"dataframe\">\n",
       "  <thead>\n",
       "    <tr style=\"text-align: right;\">\n",
       "      <th></th>\n",
       "      <th>time_abs(%Y-%m-%dT%H:%M:%S.%f)</th>\n",
       "      <th>time_rel(sec)</th>\n",
       "      <th>velocity(m/s)</th>\n",
       "      <th>velocity_normalized</th>\n",
       "    </tr>\n",
       "  </thead>\n",
       "  <tbody>\n",
       "    <tr>\n",
       "      <th>0</th>\n",
       "      <td>1970-03-25T00:00:00.440000</td>\n",
       "      <td>0.000000</td>\n",
       "      <td>-5.481780e-15</td>\n",
       "      <td>0.005003</td>\n",
       "    </tr>\n",
       "    <tr>\n",
       "      <th>1</th>\n",
       "      <td>1970-03-25T00:00:00.590943</td>\n",
       "      <td>0.150943</td>\n",
       "      <td>-6.878653e-15</td>\n",
       "      <td>0.005000</td>\n",
       "    </tr>\n",
       "    <tr>\n",
       "      <th>2</th>\n",
       "      <td>1970-03-25T00:00:00.741887</td>\n",
       "      <td>0.301887</td>\n",
       "      <td>-7.486137e-15</td>\n",
       "      <td>0.004998</td>\n",
       "    </tr>\n",
       "    <tr>\n",
       "      <th>3</th>\n",
       "      <td>1970-03-25T00:00:00.892830</td>\n",
       "      <td>0.452830</td>\n",
       "      <td>-7.191481e-15</td>\n",
       "      <td>0.004999</td>\n",
       "    </tr>\n",
       "    <tr>\n",
       "      <th>4</th>\n",
       "      <td>1970-03-25T00:00:01.043774</td>\n",
       "      <td>0.603774</td>\n",
       "      <td>-6.287278e-15</td>\n",
       "      <td>0.005001</td>\n",
       "    </tr>\n",
       "  </tbody>\n",
       "</table>\n",
       "</div>"
      ],
      "text/plain": [
       "  time_abs(%Y-%m-%dT%H:%M:%S.%f)  time_rel(sec)  velocity(m/s)  \\\n",
       "0     1970-03-25T00:00:00.440000       0.000000  -5.481780e-15   \n",
       "1     1970-03-25T00:00:00.590943       0.150943  -6.878653e-15   \n",
       "2     1970-03-25T00:00:00.741887       0.301887  -7.486137e-15   \n",
       "3     1970-03-25T00:00:00.892830       0.452830  -7.191481e-15   \n",
       "4     1970-03-25T00:00:01.043774       0.603774  -6.287278e-15   \n",
       "\n",
       "   velocity_normalized  \n",
       "0             0.005003  \n",
       "1             0.005000  \n",
       "2             0.004998  \n",
       "3             0.004999  \n",
       "4             0.005001  "
      ]
     },
     "execution_count": 51,
     "metadata": {},
     "output_type": "execute_result"
    }
   ],
   "source": [
    "train_data[1].head()"
   ]
  },
  {
   "cell_type": "markdown",
   "id": "faeeeeea-99d2-4adf-9d5b-2baf780df2e9",
   "metadata": {},
   "source": [
    "### Init model"
   ]
  },
  {
   "cell_type": "code",
   "execution_count": 68,
   "id": "6e9b3b07-bca3-4ef3-9907-29478a93bd9d",
   "metadata": {
    "tags": []
   },
   "outputs": [],
   "source": [
    "window_size = 10  \n",
    "num_epochs = 2\n",
    "batch_size = 3200  \n",
    "\n",
    "def create_model():\n",
    "    model = Sequential()\n",
    "    model.add(Input(shape=(window_size, 1)))  \n",
    "    model.add(LSTM(64, return_sequences=True))\n",
    "    model.add(Dropout(0.2))  \n",
    "\n",
    "    model.add(LSTM(64, return_sequences=True))\n",
    "    model.add(Dropout(0.2))  \n",
    "\n",
    "    model.add(LSTM(32, return_sequences=False))\n",
    "    model.add(Dropout(0.2))  \n",
    "\n",
    "    model.add(Dense(1))\n",
    "    model.compile(optimizer='adam', loss='mean_squared_error', metrics=['mae'])\n",
    "    model.summary()\n",
    "    return model"
   ]
  },
  {
   "cell_type": "markdown",
   "id": "b82c7724-817b-4d20-a8cb-ae720a00770e",
   "metadata": {},
   "source": [
    "### Fit model"
   ]
  },
  {
   "cell_type": "code",
   "execution_count": 73,
   "id": "de6ec906-3c48-4dbb-89af-e5556eb16d3f",
   "metadata": {
    "tags": []
   },
   "outputs": [
    {
     "data": {
      "text/html": [
       "<pre style=\"white-space:pre;overflow-x:auto;line-height:normal;font-family:Menlo,'DejaVu Sans Mono',consolas,'Courier New',monospace\"><span style=\"font-weight: bold\">Model: \"sequential_2\"</span>\n",
       "</pre>\n"
      ],
      "text/plain": [
       "\u001b[1mModel: \"sequential_2\"\u001b[0m\n"
      ]
     },
     "metadata": {},
     "output_type": "display_data"
    },
    {
     "data": {
      "text/html": [
       "<pre style=\"white-space:pre;overflow-x:auto;line-height:normal;font-family:Menlo,'DejaVu Sans Mono',consolas,'Courier New',monospace\">┏━━━━━━━━━━━━━━━━━━━━━━━━━━━━━━━━━━━━━━┳━━━━━━━━━━━━━━━━━━━━━━━━━━━━━┳━━━━━━━━━━━━━━━━━┓\n",
       "┃<span style=\"font-weight: bold\"> Layer (type)                         </span>┃<span style=\"font-weight: bold\"> Output Shape                </span>┃<span style=\"font-weight: bold\">         Param # </span>┃\n",
       "┡━━━━━━━━━━━━━━━━━━━━━━━━━━━━━━━━━━━━━━╇━━━━━━━━━━━━━━━━━━━━━━━━━━━━━╇━━━━━━━━━━━━━━━━━┩\n",
       "│ lstm_6 (<span style=\"color: #0087ff; text-decoration-color: #0087ff\">LSTM</span>)                        │ (<span style=\"color: #00d7ff; text-decoration-color: #00d7ff\">None</span>, <span style=\"color: #00af00; text-decoration-color: #00af00\">10</span>, <span style=\"color: #00af00; text-decoration-color: #00af00\">64</span>)              │          <span style=\"color: #00af00; text-decoration-color: #00af00\">16,896</span> │\n",
       "├──────────────────────────────────────┼─────────────────────────────┼─────────────────┤\n",
       "│ dropout_6 (<span style=\"color: #0087ff; text-decoration-color: #0087ff\">Dropout</span>)                  │ (<span style=\"color: #00d7ff; text-decoration-color: #00d7ff\">None</span>, <span style=\"color: #00af00; text-decoration-color: #00af00\">10</span>, <span style=\"color: #00af00; text-decoration-color: #00af00\">64</span>)              │               <span style=\"color: #00af00; text-decoration-color: #00af00\">0</span> │\n",
       "├──────────────────────────────────────┼─────────────────────────────┼─────────────────┤\n",
       "│ lstm_7 (<span style=\"color: #0087ff; text-decoration-color: #0087ff\">LSTM</span>)                        │ (<span style=\"color: #00d7ff; text-decoration-color: #00d7ff\">None</span>, <span style=\"color: #00af00; text-decoration-color: #00af00\">10</span>, <span style=\"color: #00af00; text-decoration-color: #00af00\">64</span>)              │          <span style=\"color: #00af00; text-decoration-color: #00af00\">33,024</span> │\n",
       "├──────────────────────────────────────┼─────────────────────────────┼─────────────────┤\n",
       "│ dropout_7 (<span style=\"color: #0087ff; text-decoration-color: #0087ff\">Dropout</span>)                  │ (<span style=\"color: #00d7ff; text-decoration-color: #00d7ff\">None</span>, <span style=\"color: #00af00; text-decoration-color: #00af00\">10</span>, <span style=\"color: #00af00; text-decoration-color: #00af00\">64</span>)              │               <span style=\"color: #00af00; text-decoration-color: #00af00\">0</span> │\n",
       "├──────────────────────────────────────┼─────────────────────────────┼─────────────────┤\n",
       "│ lstm_8 (<span style=\"color: #0087ff; text-decoration-color: #0087ff\">LSTM</span>)                        │ (<span style=\"color: #00d7ff; text-decoration-color: #00d7ff\">None</span>, <span style=\"color: #00af00; text-decoration-color: #00af00\">32</span>)                  │          <span style=\"color: #00af00; text-decoration-color: #00af00\">12,416</span> │\n",
       "├──────────────────────────────────────┼─────────────────────────────┼─────────────────┤\n",
       "│ dropout_8 (<span style=\"color: #0087ff; text-decoration-color: #0087ff\">Dropout</span>)                  │ (<span style=\"color: #00d7ff; text-decoration-color: #00d7ff\">None</span>, <span style=\"color: #00af00; text-decoration-color: #00af00\">32</span>)                  │               <span style=\"color: #00af00; text-decoration-color: #00af00\">0</span> │\n",
       "├──────────────────────────────────────┼─────────────────────────────┼─────────────────┤\n",
       "│ dense_2 (<span style=\"color: #0087ff; text-decoration-color: #0087ff\">Dense</span>)                      │ (<span style=\"color: #00d7ff; text-decoration-color: #00d7ff\">None</span>, <span style=\"color: #00af00; text-decoration-color: #00af00\">1</span>)                   │              <span style=\"color: #00af00; text-decoration-color: #00af00\">33</span> │\n",
       "└──────────────────────────────────────┴─────────────────────────────┴─────────────────┘\n",
       "</pre>\n"
      ],
      "text/plain": [
       "┏━━━━━━━━━━━━━━━━━━━━━━━━━━━━━━━━━━━━━━┳━━━━━━━━━━━━━━━━━━━━━━━━━━━━━┳━━━━━━━━━━━━━━━━━┓\n",
       "┃\u001b[1m \u001b[0m\u001b[1mLayer (type)                        \u001b[0m\u001b[1m \u001b[0m┃\u001b[1m \u001b[0m\u001b[1mOutput Shape               \u001b[0m\u001b[1m \u001b[0m┃\u001b[1m \u001b[0m\u001b[1m        Param #\u001b[0m\u001b[1m \u001b[0m┃\n",
       "┡━━━━━━━━━━━━━━━━━━━━━━━━━━━━━━━━━━━━━━╇━━━━━━━━━━━━━━━━━━━━━━━━━━━━━╇━━━━━━━━━━━━━━━━━┩\n",
       "│ lstm_6 (\u001b[38;5;33mLSTM\u001b[0m)                        │ (\u001b[38;5;45mNone\u001b[0m, \u001b[38;5;34m10\u001b[0m, \u001b[38;5;34m64\u001b[0m)              │          \u001b[38;5;34m16,896\u001b[0m │\n",
       "├──────────────────────────────────────┼─────────────────────────────┼─────────────────┤\n",
       "│ dropout_6 (\u001b[38;5;33mDropout\u001b[0m)                  │ (\u001b[38;5;45mNone\u001b[0m, \u001b[38;5;34m10\u001b[0m, \u001b[38;5;34m64\u001b[0m)              │               \u001b[38;5;34m0\u001b[0m │\n",
       "├──────────────────────────────────────┼─────────────────────────────┼─────────────────┤\n",
       "│ lstm_7 (\u001b[38;5;33mLSTM\u001b[0m)                        │ (\u001b[38;5;45mNone\u001b[0m, \u001b[38;5;34m10\u001b[0m, \u001b[38;5;34m64\u001b[0m)              │          \u001b[38;5;34m33,024\u001b[0m │\n",
       "├──────────────────────────────────────┼─────────────────────────────┼─────────────────┤\n",
       "│ dropout_7 (\u001b[38;5;33mDropout\u001b[0m)                  │ (\u001b[38;5;45mNone\u001b[0m, \u001b[38;5;34m10\u001b[0m, \u001b[38;5;34m64\u001b[0m)              │               \u001b[38;5;34m0\u001b[0m │\n",
       "├──────────────────────────────────────┼─────────────────────────────┼─────────────────┤\n",
       "│ lstm_8 (\u001b[38;5;33mLSTM\u001b[0m)                        │ (\u001b[38;5;45mNone\u001b[0m, \u001b[38;5;34m32\u001b[0m)                  │          \u001b[38;5;34m12,416\u001b[0m │\n",
       "├──────────────────────────────────────┼─────────────────────────────┼─────────────────┤\n",
       "│ dropout_8 (\u001b[38;5;33mDropout\u001b[0m)                  │ (\u001b[38;5;45mNone\u001b[0m, \u001b[38;5;34m32\u001b[0m)                  │               \u001b[38;5;34m0\u001b[0m │\n",
       "├──────────────────────────────────────┼─────────────────────────────┼─────────────────┤\n",
       "│ dense_2 (\u001b[38;5;33mDense\u001b[0m)                      │ (\u001b[38;5;45mNone\u001b[0m, \u001b[38;5;34m1\u001b[0m)                   │              \u001b[38;5;34m33\u001b[0m │\n",
       "└──────────────────────────────────────┴─────────────────────────────┴─────────────────┘\n"
      ]
     },
     "metadata": {},
     "output_type": "display_data"
    },
    {
     "data": {
      "text/html": [
       "<pre style=\"white-space:pre;overflow-x:auto;line-height:normal;font-family:Menlo,'DejaVu Sans Mono',consolas,'Courier New',monospace\"><span style=\"font-weight: bold\"> Total params: </span><span style=\"color: #00af00; text-decoration-color: #00af00\">62,369</span> (243.63 KB)\n",
       "</pre>\n"
      ],
      "text/plain": [
       "\u001b[1m Total params: \u001b[0m\u001b[38;5;34m62,369\u001b[0m (243.63 KB)\n"
      ]
     },
     "metadata": {},
     "output_type": "display_data"
    },
    {
     "data": {
      "text/html": [
       "<pre style=\"white-space:pre;overflow-x:auto;line-height:normal;font-family:Menlo,'DejaVu Sans Mono',consolas,'Courier New',monospace\"><span style=\"font-weight: bold\"> Trainable params: </span><span style=\"color: #00af00; text-decoration-color: #00af00\">62,369</span> (243.63 KB)\n",
       "</pre>\n"
      ],
      "text/plain": [
       "\u001b[1m Trainable params: \u001b[0m\u001b[38;5;34m62,369\u001b[0m (243.63 KB)\n"
      ]
     },
     "metadata": {},
     "output_type": "display_data"
    },
    {
     "data": {
      "text/html": [
       "<pre style=\"white-space:pre;overflow-x:auto;line-height:normal;font-family:Menlo,'DejaVu Sans Mono',consolas,'Courier New',monospace\"><span style=\"font-weight: bold\"> Non-trainable params: </span><span style=\"color: #00af00; text-decoration-color: #00af00\">0</span> (0.00 B)\n",
       "</pre>\n"
      ],
      "text/plain": [
       "\u001b[1m Non-trainable params: \u001b[0m\u001b[38;5;34m0\u001b[0m (0.00 B)\n"
      ]
     },
     "metadata": {},
     "output_type": "display_data"
    },
    {
     "name": "stdout",
     "output_type": "stream",
     "text": [
      "Epoch 1/2\n",
      "\u001b[1m179/179\u001b[0m \u001b[32m━━━━━━━━━━━━━━━━━━━━\u001b[0m\u001b[37m\u001b[0m \u001b[1m27s\u001b[0m 128ms/step - loss: 6.5510e-05 - mae: 0.0035\n",
      "Epoch 2/2\n",
      "\u001b[1m179/179\u001b[0m \u001b[32m━━━━━━━━━━━━━━━━━━━━\u001b[0m\u001b[37m\u001b[0m \u001b[1m23s\u001b[0m 127ms/step - loss: 2.4198e-06 - mae: 7.3453e-04\n",
      "Model trained on file 1/2\n",
      "Epoch 1/2\n",
      "\u001b[1m179/179\u001b[0m \u001b[32m━━━━━━━━━━━━━━━━━━━━\u001b[0m\u001b[37m\u001b[0m \u001b[1m23s\u001b[0m 129ms/step - loss: 2.3314e-06 - mae: 9.7131e-04\n",
      "Epoch 2/2\n",
      "\u001b[1m179/179\u001b[0m \u001b[32m━━━━━━━━━━━━━━━━━━━━\u001b[0m\u001b[37m\u001b[0m \u001b[1m23s\u001b[0m 128ms/step - loss: 1.1411e-06 - mae: 6.7928e-04\n"
     ]
    },
    {
     "name": "stderr",
     "output_type": "stream",
     "text": [
      "WARNING:absl:You are saving your model as an HDF5 file via `model.save()` or `keras.saving.save_model(model)`. This file format is considered legacy. We recommend using instead the native Keras format, e.g. `model.save('my_model.keras')` or `keras.saving.save_model(model, 'my_model.keras')`. \n"
     ]
    },
    {
     "name": "stdout",
     "output_type": "stream",
     "text": [
      "Model trained on file 2/2\n"
     ]
    }
   ],
   "source": [
    "early_stopping = EarlyStopping(monitor='loss', patience=5)\n",
    "model = create_model()\n",
    "for i in range(len(train_data)):\n",
    "\n",
    "    features = train_data[i]['velocity_normalized'].values\n",
    "    stream = train_mseed_data[i]\n",
    "\n",
    "    if len(stream) == 0:\n",
    "        print(f\"Stream {i} is empty.\")\n",
    "        continue\n",
    "\n",
    "    X, y = [], []\n",
    "    for trace in stream:\n",
    "        target = trace.data\n",
    "\n",
    "        for j in range(len(features) - window_size):\n",
    "            if j + window_size < len(target):\n",
    "                X.append(features[j:j + window_size])\n",
    "                y.append(target[j + window_size])  \n",
    "\n",
    "    X = np.array(X)\n",
    "    y = np.array(y)\n",
    "\n",
    "    X = X.reshape((X.shape[0], X.shape[1], 1))\n",
    "\n",
    "    model.fit(X, y, epochs=num_epochs, batch_size=batch_size, callbacks=[early_stopping])\n",
    "\n",
    "    print(f\"Model trained on file {i + 1}/{len(train_data)}\")\n",
    "\n",
    "model.save('lunar_model.h5')"
   ]
  },
  {
   "cell_type": "markdown",
   "id": "d6299645-89c1-4c82-8b29-cfbafb923c5f",
   "metadata": {},
   "source": [
    "### Get Predictions"
   ]
  },
  {
   "cell_type": "code",
   "execution_count": 76,
   "id": "eb4985cb-4ba8-4cf1-bf8e-f32d36e2ec6a",
   "metadata": {
    "tags": []
   },
   "outputs": [
    {
     "name": "stdout",
     "output_type": "stream",
     "text": [
      "\u001b[1m17888/17888\u001b[0m \u001b[32m━━━━━━━━━━━━━━━━━━━━\u001b[0m\u001b[37m\u001b[0m \u001b[1m35s\u001b[0m 2ms/step\n"
     ]
    }
   ],
   "source": [
    "# for i in range(len(test_data)):\n",
    "features = test_data[0]['velocity_normalized'].values\n",
    "stream = test_mseed_data[0]\n",
    "\n",
    "\n",
    "X_test = []\n",
    "y_true = []\n",
    "for trace in stream:\n",
    "    target = trace.data\n",
    "\n",
    "    for j in range(len(features) - window_size):\n",
    "        if j + window_size < len(target):\n",
    "            X_test.append(features[j:j + window_size])\n",
    "            y_true.append(target[j + window_size])  \n",
    "\n",
    "X_test = np.array(X_test)\n",
    "y_true = np.array(y_true)\n",
    "\n",
    "X_test = X_test.reshape((X_test.shape[0], X_test.shape[1], 1))\n",
    "\n",
    "y_pred = model.predict(X_test)\n",
    "y_pred = y_pred.reshape(-1)"
   ]
  },
  {
   "cell_type": "code",
   "execution_count": 80,
   "id": "4aabf5ac-f453-4086-900d-24760cab8874",
   "metadata": {
    "tags": []
   },
   "outputs": [
    {
     "name": "stderr",
     "output_type": "stream",
     "text": [
      "WARNING:matplotlib.legend:No artists with labels found to put in legend.  Note that artists whose label start with an underscore are ignored when legend() is called with no argument.\n"
     ]
    },
    {
     "data": {
      "image/png": "[encoded data removed]",
      "text/plain": [
       "<Figure size 1000x600 with 1 Axes>"
      ]
     },
     "metadata": {},
     "output_type": "display_data"
    }
   ],
   "source": [
    "plt.figure(figsize=(10, 6))\n",
    "plt.plot(features, color='blue')\n",
    "# plt.plot(y_pred, label='Предсказанные значения', color='red')\n",
    "plt.title(f'Данные с шумом')\n",
    "plt.xlabel('Шаги времени')\n",
    "plt.ylabel('Значение')\n",
    "plt.legend()\n",
    "plt.show()\n"
   ]
  },
  {
   "cell_type": "code",
   "execution_count": 111,
   "id": "103f83c3-bed2-4649-bf08-9a525417f99e",
   "metadata": {
    "tags": []
   },
   "outputs": [
    {
     "name": "stderr",
     "output_type": "stream",
     "text": [
      "WARNING:matplotlib.legend:No artists with labels found to put in legend.  Note that artists whose label start with an underscore are ignored when legend() is called with no argument.\n"
     ]
    },
    {
     "data": {
      "image/png": "[encoded data removed]",
      "text/plain": [
       "<Figure size 1000x600 with 1 Axes>"
      ]
     },
     "metadata": {},
     "output_type": "display_data"
    }
   ],
   "source": [
    "plt.figure(figsize=(10, 6))\n",
    "plt.plot(y_pred, color='red')\n",
    "plt.title('Данные с уменьшиным количеством шума')\n",
    "plt.xlabel('Шаги времени')\n",
    "plt.ylabel('Значение')\n",
    "plt.legend()\n",
    "plt.show()\n"
   ]
  },
  {
   "cell_type": "code",
   "execution_count": 90,
   "id": "f806fa11-e2c0-475b-9dba-5b6520018a9d",
   "metadata": {},
   "outputs": [
    {
     "data": {
      "text/plain": [
       "array([-1.3798348e-05, -1.3797351e-05, -1.3797446e-05, ...,\n",
       "       -1.3844514e-05, -1.3840818e-05, -1.3835179e-05], dtype=float32)"
      ]
     },
     "execution_count": 90,
     "metadata": {},
     "output_type": "execute_result"
    }
   ],
   "source": [
    "y_pred"
   ]
  },
  {
   "cell_type": "code",
   "execution_count": 94,
   "id": "7d1e4da6-d1d1-40ae-ab0f-9aeee28ad60e",
   "metadata": {
    "tags": []
   },
   "outputs": [
    {
     "name": "stdout",
     "output_type": "stream",
     "text": [
      "Defaulting to user installation because normal site-packages is not writeable\n",
      "Collecting pydub\n",
      "  Downloading pydub-0.25.1-py2.py3-none-any.whl.metadata (1.4 kB)\n",
      "Downloading pydub-0.25.1-py2.py3-none-any.whl (32 kB)\n",
      "Installing collected packages: pydub\n",
      "Successfully installed pydub-0.25.1\n"
     ]
    }
   ],
   "source": [
    "!pip install pydub"
   ]
  },
  {
   "cell_type": "markdown",
   "id": "90dca40a-73f7-4fb1-bba1-e2639609837c",
   "metadata": {},
   "source": [
    "### Save predicted data in .wav"
   ]
  },
  {
   "cell_type": "code",
   "execution_count": 105,
   "id": "f91ad495-dc4d-4a34-883c-54a222a1841d",
   "metadata": {},
   "outputs": [
    {
     "name": "stdout",
     "output_type": "stream",
     "text": [
      "Конвертация завершена: lunar_seismic.wav\n"
     ]
    }
   ],
   "source": [
    "audio_array = y_pred\n",
    "\n",
    "audio_array = audio_array / np.max(np.abs(audio_array))  \n",
    "audio_array = (audio_array * 32767).astype(np.int16) \n",
    "\n",
    "samplerate = 44100  \n",
    "write(\"lunar_seismic.wav\", samplerate, audio_array)\n",
    "\n",
    "audio = AudioSegment.from_wav(\"lunar_seismic.wav\")\n",
    "\n",
    "print(\"Конвертация завершена: lunar_seismic.wav\")"
   ]
  },
  {
   "cell_type": "code",
   "execution_count": null,
   "id": "ccdec119-4a59-4b4f-bda5-2df6e7f23a00",
   "metadata": {},
   "outputs": [],
   "source": []
  }
 ],
 "metadata": {
  "kernelspec": {
   "display_name": "Python 3 (ipykernel)",
   "language": "python",
   "name": "python3"
  },
  "language_info": {
   "codemirror_mode": {
    "name": "ipython",
    "version": 3
   },
   "file_extension": ".py",
   "mimetype": "text/x-python",
   "name": "python",
   "nbconvert_exporter": "python",
   "pygments_lexer": "ipython3",
   "version": "3.11.7"
  }
 },
 "nbformat": 4,
 "nbformat_minor": 5
}
