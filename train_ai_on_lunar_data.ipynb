{
 "cells": [
  {
   "cell_type": "code",
   "execution_count": 29,
   "id": "b8455292-69e1-4955-9ac3-b50b336b1923",
   "metadata": {
    "tags": []
   },
   "outputs": [],
   "source": [
    "import numpy as np\n",
    "import pandas as pd\n",
    "from datetime import datetime, timedelta\n",
    "import matplotlib.pyplot as plt\n",
    "from obspy import read\n",
    "import os\n",
    "from pprint import pprint\n",
    "from sklearn.preprocessing import StandardScaler\n",
    "import tensorflow as tf\n",
    "from tensorflow.keras.models import Sequential\n",
    "from tensorflow.keras.layers import LSTM, Dense\n",
    "import matplotlib.pyplot as plt\n"
   ]
  },
  {
   "cell_type": "code",
   "execution_count": 5,
   "id": "548b6522-ec7a-4589-9a88-4d5b0c13c148",
   "metadata": {
    "tags": []
   },
   "outputs": [],
   "source": [
    "test_data_path = \"./data/lunar/test/data/S12_GradeB\"\n",
    "train_data_path = \"./data/lunar/training/data/S12_GradeA\""
   ]
  },
  {
   "cell_type": "code",
   "execution_count": 8,
   "id": "ed7c6a1d-b353-4c9f-8e06-32343b716864",
   "metadata": {
    "tags": []
   },
   "outputs": [],
   "source": [
    "test_files = os.listdir(test_data_path)\n",
    "count_test_files = len(test_files)\n",
    "train_files = os.listdir(train_data_path)\n",
    "count_train_files = len(train_files)\n"
   ]
  },
  {
   "cell_type": "code",
   "execution_count": 16,
   "id": "26ba7b84-10b7-4daa-9a67-2456fa9e5614",
   "metadata": {
    "tags": []
   },
   "outputs": [
    {
     "name": "stdout",
     "output_type": "stream",
     "text": [
      "['.ipynb_checkpoints',\n",
      " 'xa.s12.00.mhz.1969-12-16HR00_evid00006.csv',\n",
      " 'xa.s12.00.mhz.1969-12-16HR00_evid00006.mseed',\n",
      " 'xa.s12.00.mhz.1970-01-09HR00_evid00007.csv',\n",
      " 'xa.s12.00.mhz.1970-01-09HR00_evid00007.mseed']\n",
      "['.ipynb_checkpoints',\n",
      " 'xa.s12.00.mhz.1970-01-19HR00_evid00002.csv',\n",
      " 'xa.s12.00.mhz.1970-01-19HR00_evid00002.mseed',\n",
      " 'xa.s12.00.mhz.1970-03-25HR00_evid00003.csv',\n",
      " 'xa.s12.00.mhz.1970-03-25HR00_evid00003.mseed']\n"
     ]
    }
   ],
   "source": [
    "pprint(test_files[:5])\n",
    "pprint(train_files[:5])"
   ]
  },
  {
   "cell_type": "code",
   "execution_count": null,
   "id": "3a9b7f12-4da0-4e92-8823-87d239213cf2",
   "metadata": {},
   "outputs": [],
   "source": [
    "train_csv = pd.read_csv(f'{test_data_path}/{test_files[1]}')\n",
    "test_csv = pd.read_csv(f'{train_data_path}/{train_files[1]}')\n",
    "\n",
    "# Загрузка mseed\n",
    "train_mseed = read(f'{test_data_path}/{test_files[2]}')\n",
    "test_mseed = read(f'{train_data_path}/{train_files[2]}')\n",
    "\n",
    "# Пример того, как получить данные из mseed\n",
    "train_stream = train_mseed[0].data\n",
    "test_stream = test_mseed[0].data"
   ]
  },
  {
   "cell_type": "code",
   "execution_count": null,
   "id": "d17f58c3-1d0e-4ad8-a4e7-fa551dbcb1de",
   "metadata": {},
   "outputs": [],
   "source": [
    "train_csv.head()"
   ]
  },
  {
   "cell_type": "code",
   "execution_count": null,
   "id": "78f80b7e-915c-4792-ba70-902ea94fa2d0",
   "metadata": {},
   "outputs": [],
   "source": [
    "test_csv.head()"
   ]
  },
  {
   "cell_type": "code",
   "execution_count": null,
   "id": "85bc6d74-7dcb-49b1-b2b7-2538fcb6ab80",
   "metadata": {},
   "outputs": [],
   "source": [
    "train_csv['time_abs'] = pd.to_datetime(train_csv['time_abs(%Y-%m-%dT%H:%M:%S.%f)'])\n",
    "\n",
    "scaler = StandardScaler()\n",
    "train_csv['velocity_normalized'] = scaler.fit_transform(train_csv[['velocity(m/s)']])\n",
    "test_csv['velocity_normalized'] = scaler.fit_transform(test_csv[['velocity(m/s)']])\n"
   ]
  },
  {
   "cell_type": "code",
   "execution_count": null,
   "id": "d0c4da20-46e9-4eb8-8ae3-3ef239d07a78",
   "metadata": {},
   "outputs": [],
   "source": [
    "train_csv.head()"
   ]
  },
  {
   "cell_type": "code",
   "execution_count": null,
   "id": "34c3c3cb-d7fb-42ad-88e7-88ef20e9ec23",
   "metadata": {},
   "outputs": [],
   "source": [
    "def create_dataset(data, window_size=100):\n",
    "    X, y = [], []\n",
    "    for i in range(len(data) - window_size):\n",
    "        X.append(data[i:i + window_size])\n",
    "        y.append(data[i + window_size]) \n",
    "    return np.array(X), np.array(y)\n",
    "\n",
    "window_size = 100\n",
    "X_train, y_train = create_dataset(train_csv['velocity_normalized'].values, window_size)\n",
    "X_test, y_test = create_dataset(test_csv['velocity_normalized'].values, window_size)"
   ]
  },
  {
   "cell_type": "code",
   "execution_count": null,
   "id": "95f67593-7eda-4760-884c-a3f99bd3f972",
   "metadata": {},
   "outputs": [],
   "source": [
    "model = Sequential()\n",
    "model.add(LSTM(64, return_sequences=True, input_shape=(window_size, 1)))\n",
    "model.add(LSTM(64, return_sequences=False))\n",
    "model.add(Dense(1))\n",
    "\n",
    "model.compile(optimizer='adam', loss='mean_squared_error')"
   ]
  },
  {
   "cell_type": "code",
   "execution_count": null,
   "id": "a7b81fa6-53a8-41d0-bf20-4a5c50238af9",
   "metadata": {},
   "outputs": [],
   "source": [
    "model.fit(X_train, y_train, epochs=10, batch_size=32, validation_data=(X_test, y_test))model.fit(X_train, y_train, epochs=10, batch_size=32, validation_data=(X_test, y_test))\n",
    "\n"
   ]
  },
  {
   "cell_type": "code",
   "execution_count": null,
   "id": "f648295b-3190-479a-af78-74c4d3b75632",
   "metadata": {},
   "outputs": [],
   "source": [
    "y_pred = model.predict(X_test)\n",
    "\n",
    "plt.plot(y_test, label='Original')\n",
    "plt.plot(y_pred, label='Denoised')\n",
    "plt.legend()\n",
    "plt.show()"
   ]
  }
 ],
 "metadata": {
  "kernelspec": {
   "display_name": "Python 3 (ipykernel)",
   "language": "python",
   "name": "python3"
  },
  "language_info": {
   "codemirror_mode": {
    "name": "ipython",
    "version": 3
   },
   "file_extension": ".py",
   "mimetype": "text/x-python",
   "name": "python",
   "nbconvert_exporter": "python",
   "pygments_lexer": "ipython3",
   "version": "3.11.7"
  }
 },
 "nbformat": 4,
 "nbformat_minor": 5
}
